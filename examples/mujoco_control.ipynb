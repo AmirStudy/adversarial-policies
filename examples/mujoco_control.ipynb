{
 "cells": [
  {
   "cell_type": "code",
   "execution_count": 1,
   "metadata": {},
   "outputs": [
    {
     "name": "stderr",
     "output_type": "stream",
     "text": [
      "WARNING (theano.configdefaults): install mkl with `conda install mkl-service`: No module named 'mkl'\n"
     ]
    },
    {
     "name": "stdout",
     "output_type": "stream",
     "text": [
      "Logging to /tmp/openai-2019-01-28-19-51-30-126014\n",
      "Choosing the latest nvidia driver: /usr/lib/nvidia-396, among ['/usr/lib/nvidia-375', '/usr/lib/nvidia-396']\n",
      "Choosing the latest nvidia driver: /usr/lib/nvidia-396, among ['/usr/lib/nvidia-375', '/usr/lib/nvidia-396']\n"
     ]
    }
   ],
   "source": [
    "from ilqr import iLQR\n",
    "import gym\n",
    "import numpy as np\n",
    "import pandas as pd\n",
    "import time\n",
    "\n",
    "from aprl.agents import MujocoFiniteDiffDynamicsBasic, MujocoFiniteDiffDynamicsPerformance, MujocoFiniteDiffCost\n",
    "from aprl.envs.mujoco_costs import ReacherCost, InvertedPendulumCost"
   ]
  },
  {
   "cell_type": "code",
   "execution_count": 2,
   "metadata": {},
   "outputs": [
    {
     "name": "stderr",
     "output_type": "stream",
     "text": [
      "/home/adam/bin/anaconda3/envs/aprl/lib/python3.6/site-packages/theano/gradient.py:589: UserWarning: grad method was asked to compute the gradient with respect to a variable that is not part of the computational graph of the cost, or is used only by a non-differentiable operator: Reshape{2}.0\n",
      "  handle_disconnected(elem)\n",
      "/home/adam/bin/anaconda3/envs/aprl/lib/python3.6/site-packages/theano/gradient.py:615: UserWarning: grad method was asked to compute the gradient with respect to a variable that is not part of the computational graph of the cost, or is used only by a non-differentiable operator: <DisconnectedType>\n",
      "  handle_disconnected(rval[i])\n"
     ]
    }
   ],
   "source": [
    "# Environment setup\n",
    "env = gym.make('InvertedPendulum-v2').unwrapped\n",
    "env.frame_skip = 1\n",
    "env.seed(42)\n",
    "_obs = env.reset()\n",
    "cost = InvertedPendulumCost()"
   ]
  },
  {
   "cell_type": "code",
   "execution_count": 3,
   "metadata": {},
   "outputs": [],
   "source": [
    "# Planning setup\n",
    "N = 100  # planning horizon\n",
    "us_init = np.array([env.action_space.sample() for _ in range(N)])\n",
    "\n",
    "dynamics = {\n",
    "    # Uses env.step(u) directly and finite difference on qpos and qvel directly.\n",
    "    'my_basic': MujocoFiniteDiffDynamicsBasic(env),\n",
    "    # Sets ctrl to u directly then uses MuJoCo's forwardSkip to compute qacc.\n",
    "    # Computes finite difference on qacc, then estimates derivative of qpos and qvel.\n",
    "    'my_performance': MujocoFiniteDiffDynamicsPerformance(env),\n",
    "}\n",
    "x0s = {k: dyn.get_state() for k, dyn in dynamics.items()}"
   ]
  },
  {
   "cell_type": "markdown",
   "metadata": {},
   "source": [
    "# Finite difference cost"
   ]
  },
  {
   "cell_type": "code",
   "execution_count": null,
   "metadata": {},
   "outputs": [],
   "source": [
    "finite_cost = MujocoFiniteDiffCost(env)\n",
    "finite_ilqr = iLQR(dynamics, finite_cost, N)"
   ]
  },
  {
   "cell_type": "code",
   "execution_count": null,
   "metadata": {},
   "outputs": [],
   "source": [
    "finite_xs, finite_us = finite_ilqr.fit(x0, us_init, n_iterations=100, on_iteration=on_iteration)"
   ]
  },
  {
   "cell_type": "markdown",
   "metadata": {},
   "source": [
    "# Analytic cost"
   ]
  },
  {
   "cell_type": "code",
   "execution_count": 23,
   "metadata": {
    "scrolled": false
   },
   "outputs": [
    {
     "name": "stdout",
     "output_type": "stream",
     "text": [
      "dict_keys(['my_basic', 'my_performance'])\n",
      "*** Fitting my_basic ***\n",
      "iteration -1 converged 1254.1825846967397 [-9.86996600e-01 -1.57327650e+00 -5.51750950e-02 -3.54690729e-05]\n",
      "iteration 0 accepted 852.9627858033095 [-1.01370599e+00 -1.57327351e+00  2.38054025e-01 -3.55693692e-05]\n",
      "iteration 1 accepted 809.9983625007201 [-8.27336981e-01 -1.57327626e+00 -1.66667273e+00 -3.46451641e-08]\n",
      "iteration 2 accepted 596.2592602954812 [ 9.87487650e-01 -1.57327638e+00 -1.60471163e-02 -9.50567926e-08]\n",
      "iteration 3 accepted 540.2789667693905 [ 9.90841826e-01 -1.57327637e+00 -7.96357494e-04 -9.53590082e-09]\n",
      "iteration 4 accepted 519.6621392227048 [ 9.88080675e-01 -1.57327637e+00 -2.53225247e-03 -3.06157464e-08]\n",
      "iteration 5 accepted 499.91228428923984 [ 9.89757586e-01 -1.57327637e+00 -5.16232834e-03 -6.21905170e-08]\n",
      "iteration 6 accepted 490.10483502879066 [ 9.89323730e-01 -1.57327636e+00 -1.21622744e-02 -1.43293788e-07]\n",
      "iteration 7 accepted 465.5953423942555 [ 9.89820828e-01 -1.57327635e+00 -2.67697362e-02 -2.68239790e-07]\n",
      "iteration 8 accepted 441.6670047549312 [ 9.91835148e-01 -1.57327636e+00 -5.42545417e-02  4.47453750e-08]\n",
      "iteration 9 accepted 419.46710092748634 [ 9.98120322e-01 -1.57327663e+00 -8.10279651e-02  5.31742963e-06]\n",
      "iteration 10 accepted 398.764884269037 [ 1.01034456e+00 -1.57327795e+00 -7.74279306e-02 -4.27300546e-06]\n",
      "iteration 11 accepted 365.57423790245934 [ 7.77178675e-01 -1.57327661e+00  5.45421550e-01  4.74779670e-06]\n",
      "iteration 12 accepted 322.840475183517 [-1.03411067e-01 -1.57327745e+00 -1.35793024e-02  2.66728812e-05]\n",
      "iteration 13 accepted 312.65110664998184 [-9.18178103e-02 -1.57328395e+00 -2.34357574e-02  1.82253105e-04]\n",
      "iteration 14 accepted 302.55465901484393 [-7.80255350e-02 -1.57332691e+00 -4.08236419e-02  1.18209905e-03]\n",
      "iteration 15 accepted 292.4451450001856 [-0.06474797 -1.57359434 -0.07103777  0.0071826 ]\n",
      "iteration 16 accepted 282.23437373029697 [-0.05224533 -1.57513051 -0.12319924  0.0398039 ]\n",
      "iteration 17 accepted 271.55758821920807 [-0.04070388 -1.58286828 -0.21151748  0.18763477]\n",
      "iteration 18 accepted 258.4215092550143 [-0.03031909 -1.61150764 -0.35451921  0.56973327]\n",
      "iteration 19 accepted 235.18968186223532 [-0.02097078 -1.59884415 -0.59513359 -2.25261814]\n",
      "iteration 20 accepted 15.745390624176766 [-0.04565993  0.33241106 -0.24353662  1.534305  ]\n",
      "iteration 21 accepted 0.008219756144620317 [ 0.00685971 -0.00549391  0.00207738 -0.01729204]\n",
      "iteration 22 accepted 0.006359837592818039 [ 0.00653629 -0.00159373  0.00034621  0.00029737]\n",
      "iteration 23 converged 0.006359837592812931 [ 0.00653629 -0.00159374  0.00034622  0.00029733]\n",
      "*** Fitted my_basic in 3.263216257095337s ***\n",
      "*** Fitting my_performance ***\n",
      "iteration -1 converged 1254.18258469674 [-9.86996600e-01 -1.57327650e+00 -5.51750950e-02 -3.54690729e-05]\n",
      "iteration 0 accepted 841.893140993807 [-1.00361736e+00 -1.57327484e+00  2.04412255e-01 -2.71186396e-05]\n",
      "iteration 1 accepted 830.8267026503348 [-1.02756856e+00 -1.57327235e+00  1.87045895e-01  2.02333902e-05]\n",
      "iteration 2 accepted 729.6640848232848 [-5.70695117e-01 -1.57327630e+00 -1.51369740e+00 -1.77717073e-07]\n",
      "iteration 3 accepted 582.9711097106023 [ 9.79599114e-01 -1.57327637e+00 -2.24158361e-03 -1.60737602e-08]\n",
      "iteration 4 accepted 571.114688650825 [ 9.80975016e-01 -1.57327637e+00 -8.50807871e-04 -1.03118526e-08]\n",
      "iteration 5 accepted 532.2386425371923 [ 9.85782082e-01 -1.57327637e+00 -1.35618188e-03 -1.64270895e-08]\n",
      "iteration 6 accepted 518.2920026969606 [ 9.79054868e-01 -1.57327637e+00 -4.16467251e-03 -5.03746692e-08]\n",
      "iteration 7 accepted 495.86013387244054 [ 9.85903404e-01 -1.57327637e+00 -5.82844744e-03 -7.03803992e-08]\n",
      "iteration 8 accepted 479.3720295457544 [ 9.86688700e-01 -1.57327636e+00 -1.09916734e-02 -1.31547854e-07]\n",
      "iteration 9 accepted 461.1533274788646 [ 9.87143518e-01 -1.57327635e+00 -2.12270242e-02 -2.42661111e-07]\n",
      "iteration 10 accepted 446.51036225054037 [ 9.87949455e-01 -1.57327634e+00 -4.04396064e-02 -3.61026979e-07]\n",
      "iteration 11 accepted 444.1021091723435 [ 9.90385622e-01 -1.57327636e+00 -7.22760937e-02  1.63263818e-07]\n",
      "iteration 12 accepted 432.8090094997374 [ 9.96503751e-01 -1.57327661e+00 -1.10916257e-01  5.15276559e-06]\n",
      "iteration 13 accepted 419.02033491727263 [ 1.00872441e+00 -1.57327788e+00 -1.43885877e-01  1.63805755e-05]\n",
      "iteration 14 accepted 402.12126283496934 [ 9.72990993e-01 -1.57327638e+00  8.56836591e-01 -5.90259539e-09]\n",
      "iteration 15 accepted 344.6896412446892 [-1.19111867e-01 -1.57327641e+00 -5.99542720e-03  9.84681026e-07]\n",
      "iteration 16 accepted 336.33906119019707 [-1.15713243e-01 -1.57327655e+00 -9.00813297e-03  4.58651883e-06]\n",
      "iteration 17 accepted 328.59587177486407 [-1.06848996e-01 -1.57327719e+00 -1.36754930e-02  2.03722068e-05]\n",
      "iteration 18 accepted 320.94791358978927 [-9.67717688e-02 -1.57327996e+00 -2.07277150e-02  8.73912123e-05]\n",
      "iteration 19 accepted 313.3443029852037 [-8.62672362e-02 -1.57329161e+00 -3.14222001e-02  3.63779169e-04]\n",
      "iteration 20 accepted 305.7605314775802 [-7.57546568e-02 -1.57333919e+00 -4.76384542e-02  1.46748526e-03]\n",
      "iteration 21 accepted 298.1804131713721 [-0.06553732 -1.57352699 -0.07220255  0.00570735]\n",
      "iteration 22 accepted 290.5729912107017 [-0.05580774 -1.57423767 -0.10930159  0.02118444]\n",
      "iteration 23 accepted 282.8602324041564 [-0.04664637 -1.57677672 -0.1649458   0.0735986 ]\n",
      "iteration 24 accepted 274.8079503460071 [-0.03802504 -1.58507856 -0.2471143   0.22950943]\n",
      "iteration 25 accepted 265.6011286422819 [-0.02994374 -1.60807415 -0.36448674  0.57114132]\n",
      "iteration 26 accepted 252.1204672082327 [-0.02248254 -1.64249597 -0.53029789  0.47111541]\n",
      "iteration 27 accepted 117.08151416796197 [ 2.92393153e-03 -1.14768086e+00 -5.02386552e-01 -4.10737901e+00]\n",
      "iteration 28 accepted 2.310715671819516 [ 0.02508558  0.12902361 -0.05597245  0.6417979 ]\n",
      "iteration 29 accepted 0.007827485428417802 [ 0.00364226 -0.00508845 -0.00515326 -0.0119511 ]\n",
      "iteration 30 accepted 0.006363205017703848 [ 0.00679903 -0.00150783  0.00059817  0.00057716]\n",
      "iteration 31 accepted 0.00636096763715557 [ 0.00666681 -0.00160254  0.00036994  0.00027746]\n",
      "iteration 32 converged 0.006360966832809642 [ 0.00666661 -0.0016007   0.00036908  0.0002859 ]\n",
      "*** Fitted my_performance in 2.3898379802703857s ***\n"
     ]
    }
   ],
   "source": [
    "def on_iteration(iteration_count, xs, us, J_opt, accepted, converged):\n",
    "    info = \"converged\" if converged else (\"accepted\" if accepted else \"failed\")\n",
    "    print(\"iteration\", iteration_count, info, J_opt, xs[-1])\n",
    "\n",
    "cost = InvertedPendulumCost()\n",
    "ilqrs = {k: iLQR(dyn, cost, N) for k, dyn in dynamics.items()}\n",
    "xs = {}\n",
    "us = {}\n",
    "print(ilqrs.keys())\n",
    "for k, ilqr in ilqrs.items():\n",
    "    start = time.time()\n",
    "    print('*** Fitting {} ***'.format(k))\n",
    "    x0 = x0s[k]\n",
    "    xs[k], us[k] = ilqr.fit(x0, us_init, n_iterations=100, on_iteration=on_iteration)\n",
    "    end = time.time()\n",
    "    print('*** Fitted {} in {}s ***'.format(k, end - start))"
   ]
  },
  {
   "cell_type": "markdown",
   "metadata": {},
   "source": [
    "# Receding horizon"
   ]
  },
  {
   "cell_type": "code",
   "execution_count": null,
   "metadata": {},
   "outputs": [],
   "source": [
    "from ilqr.controller import RecedingHorizonController\n",
    "\n",
    "def receding(underlying):\n",
    "    k = 'receding_' + underlying\n",
    "    dynamics[k] = dynamics[underlying]\n",
    "    x0s[k] = x0s[underlying]\n",
    "    controller = RecedingHorizonController(x0s[k], ilqrs[underlying])\n",
    "    rew = []\n",
    "    xs[k] = []\n",
    "    us[k] = []\n",
    "    for x, u in controller.control(us_init, subsequent_n_iterations=10):\n",
    "        ob, r, done, info = env.step(u)\n",
    "        xs[k].append(x)\n",
    "        us[k].append(u)\n",
    "        rew.append(r)\n",
    "        print('iteration', len(rew), r, x, u)\n",
    "        if len(rew) == N:\n",
    "            break"
   ]
  },
  {
   "cell_type": "code",
   "execution_count": null,
   "metadata": {},
   "outputs": [],
   "source": [
    "receding('my_basic')\n",
    "receding('my_performance')"
   ]
  },
  {
   "cell_type": "markdown",
   "metadata": {},
   "source": [
    "# Rollouts"
   ]
  },
  {
   "cell_type": "code",
   "execution_count": 24,
   "metadata": {},
   "outputs": [],
   "source": [
    "import time\n",
    "\n",
    "def rollout(env, dynamics, x0, us, render=False):\n",
    "    dynamics.set_state(x0)\n",
    "    if render:\n",
    "        env.render()\n",
    "    rew = []\n",
    "    actual_xs = []\n",
    "    for u in us:\n",
    "        _obs, r, done, info = env.step(u)\n",
    "        if done:\n",
    "            print('warning: early termination! (assuming zero-reward from now on)')\n",
    "            break\n",
    "        rew.append(r)\n",
    "        actual_xs.append(dynamics.get_state())\n",
    "        if render:\n",
    "            env.render()\n",
    "            time.sleep(0.02)\n",
    "    return rew, actual_xs"
   ]
  },
  {
   "cell_type": "code",
   "execution_count": 25,
   "metadata": {},
   "outputs": [
    {
     "name": "stdout",
     "output_type": "stream",
     "text": [
      "my_basic\n",
      "my_performance\n"
     ]
    },
    {
     "data": {
      "text/html": [
       "<div>\n",
       "<style scoped>\n",
       "    .dataframe tbody tr th:only-of-type {\n",
       "        vertical-align: middle;\n",
       "    }\n",
       "\n",
       "    .dataframe tbody tr th {\n",
       "        vertical-align: top;\n",
       "    }\n",
       "\n",
       "    .dataframe thead th {\n",
       "        text-align: right;\n",
       "    }\n",
       "</style>\n",
       "<table border=\"1\" class=\"dataframe\">\n",
       "  <thead>\n",
       "    <tr style=\"text-align: right;\">\n",
       "      <th></th>\n",
       "      <th>rewards</th>\n",
       "      <th>lengths</th>\n",
       "    </tr>\n",
       "  </thead>\n",
       "  <tbody>\n",
       "    <tr>\n",
       "      <th>my_basic</th>\n",
       "      <td>100.0</td>\n",
       "      <td>100</td>\n",
       "    </tr>\n",
       "    <tr>\n",
       "      <th>my_performance</th>\n",
       "      <td>100.0</td>\n",
       "      <td>100</td>\n",
       "    </tr>\n",
       "  </tbody>\n",
       "</table>\n",
       "</div>"
      ],
      "text/plain": [
       "                rewards  lengths\n",
       "my_basic          100.0      100\n",
       "my_performance    100.0      100"
      ]
     },
     "execution_count": 25,
     "metadata": {},
     "output_type": "execute_result"
    }
   ],
   "source": [
    "rews = {}\n",
    "actual_xs = {}\n",
    "for k, solved_us in us.items():\n",
    "    print(k)\n",
    "    rews[k], actual_xs[k] = rollout(env.unwrapped, dynamics[k], x0s[k], solved_us, render=True)\n",
    "rewards = {k: sum(r) for k, r in rews.items()}\n",
    "lengths = {k: len(r) for k, r in rews.items()}\n",
    "pd.DataFrame({'rewards': rewards, 'lengths': lengths})"
   ]
  }
 ],
 "metadata": {
  "kernelspec": {
   "display_name": "Python 3",
   "language": "python",
   "name": "python3"
  },
  "language_info": {
   "codemirror_mode": {
    "name": "ipython",
    "version": 3
   },
   "file_extension": ".py",
   "mimetype": "text/x-python",
   "name": "python",
   "nbconvert_exporter": "python",
   "pygments_lexer": "ipython3",
   "version": "3.6.7"
  }
 },
 "nbformat": 4,
 "nbformat_minor": 2
}
